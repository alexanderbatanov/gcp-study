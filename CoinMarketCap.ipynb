{
 "cells": [
  {
   "cell_type": "markdown",
   "metadata": {
    "deletable": true,
    "editable": true
   },
   "source": [
    "# Caserta GCP Homework"
   ]
  },
  {
   "cell_type": "markdown",
   "metadata": {
    "deletable": true,
    "editable": true
   },
   "source": [
    "### Setup Steps"
   ]
  },
  {
   "cell_type": "markdown",
   "metadata": {
    "deletable": true,
    "editable": true
   },
   "source": [
    "After GCP account was established, GCP Storage bucket `batanov` was created. JSON file downloaded from https://coinmarketcap.com/api/ was converted to CSV using an online converter tool https://json-csv.com/ and the resulting file was placed in the bucket.\n",
    "\n",
    "Downloaded CoinMarketCap file was made publically accessible using GCP web console. It is located at https://storage.googleapis.com/batanov/crypto.csv.\n",
    "\n",
    "The bucket itself was made accessible to authenticated Google users with `gsutil defacl ch -u allUsers:R gs://batanov`.\n",
    "\n",
    "Next, CSV file was imported into BigQuery using Create Table wizard. The queries were initially executed using BugQuery web interface.\n",
    "\n",
    "Then, Datalab notebook was ran locally with `datalab create --verbosity=debug datalab-caserta` and the same queries were executed from this notebook running on port 8081."
   ]
  },
  {
   "cell_type": "markdown",
   "metadata": {
    "deletable": true,
    "editable": true
   },
   "source": [
    "The setup was verified by running the following query."
   ]
  },
  {
   "cell_type": "code",
   "execution_count": 2,
   "metadata": {
    "collapsed": false,
    "deletable": true,
    "editable": true
   },
   "outputs": [
    {
     "data": {
      "text/html": [
       "\n",
       "    <div class=\"bqtv\" id=\"2_152317161422\"><table><tr><th>f0_</th></tr><tr><td>100</td></tr></table></div>\n",
       "    <br />(rows: 1, time: 0.3s, cached, job: job_UbunsuNXyo5jrKKZqW9zrdt4kp_W)<br />\n",
       "    <script src=\"/static/components/requirejs/require.js\"></script>\n",
       "    <script>\n",
       "      require.config({\n",
       "        paths: {\n",
       "          base: '/static/base',\n",
       "          d3: '//cdnjs.cloudflare.com/ajax/libs/d3/3.4.13/d3',\n",
       "          plotly: 'https://cdn.plot.ly/plotly-1.5.1.min.js?noext',\n",
       "          jquery: '//ajax.googleapis.com/ajax/libs/jquery/2.0.0/jquery.min'\n",
       "        },\n",
       "        map: {\n",
       "          '*': {\n",
       "            datalab: 'nbextensions/gcpdatalab'\n",
       "          }\n",
       "        },\n",
       "        shim: {\n",
       "          plotly: {\n",
       "            deps: ['d3', 'jquery'],\n",
       "            exports: 'plotly'\n",
       "          }\n",
       "        }\n",
       "      });\n",
       "\n",
       "      require(['datalab/charting', 'datalab/element!2_152317161422', 'base/js/events',\n",
       "          'datalab/style!/nbextensions/gcpdatalab/charting.css'],\n",
       "        function(charts, dom, events) {\n",
       "          charts.render('gcharts', dom, events, 'table', [], {\"rows\": [{\"c\": [{\"v\": 100}]}], \"cols\": [{\"label\": \"f0_\", \"type\": \"number\", \"id\": \"f0_\"}]},\n",
       "            {\n",
       "              pageSize: 25,\n",
       "              cssClassNames:  {\n",
       "                tableRow: 'gchart-table-row',\n",
       "                headerRow: 'gchart-table-headerrow',\n",
       "                oddTableRow: 'gchart-table-oddrow',\n",
       "                selectedTableRow: 'gchart-table-selectedrow',\n",
       "                hoverTableRow: 'gchart-table-hoverrow',\n",
       "                tableCell: 'gchart-table-cell',\n",
       "                headerCell: 'gchart-table-headercell',\n",
       "                rowNumberCell: 'gchart-table-rownumcell'\n",
       "              }\n",
       "            },\n",
       "            {source_index: 0, fields: 'f0_'},\n",
       "            0,\n",
       "            1);\n",
       "        }\n",
       "      );\n",
       "    </script>\n",
       "  "
      ],
      "text/plain": [
       "QueryResultsTable job_UbunsuNXyo5jrKKZqW9zrdt4kp_W"
      ]
     },
     "execution_count": 2,
     "metadata": {},
     "output_type": "execute_result"
    }
   ],
   "source": [
    "%%bq query\n",
    "SELECT count(*)\n",
    "FROM `starry-sunup-200204.crypto.test`"
   ]
  },
  {
   "cell_type": "markdown",
   "metadata": {
    "deletable": true,
    "editable": true
   },
   "source": [
    "### How many coins have a USD price greater than $6000?"
   ]
  },
  {
   "cell_type": "markdown",
   "metadata": {
    "deletable": true,
    "editable": true
   },
   "source": [
    "The value was changed to 6000 from the original 8000."
   ]
  },
  {
   "cell_type": "code",
   "execution_count": 5,
   "metadata": {
    "collapsed": false,
    "deletable": true,
    "editable": true
   },
   "outputs": [
    {
     "data": {
      "text/html": [
       "\n",
       "    <div class=\"bqtv\" id=\"4_152316331962\"><table><tr><th>f0_</th></tr><tr><td>1</td></tr></table></div>\n",
       "    <br />(rows: 1, time: 1.0s,   800B processed, job: job_SG9o2DH-wpYYIdMxbIv2ghfrId7r)<br />\n",
       "    <script src=\"/static/components/requirejs/require.js\"></script>\n",
       "    <script>\n",
       "      require.config({\n",
       "        paths: {\n",
       "          base: '/static/base',\n",
       "          d3: '//cdnjs.cloudflare.com/ajax/libs/d3/3.4.13/d3',\n",
       "          plotly: 'https://cdn.plot.ly/plotly-1.5.1.min.js?noext',\n",
       "          jquery: '//ajax.googleapis.com/ajax/libs/jquery/2.0.0/jquery.min'\n",
       "        },\n",
       "        map: {\n",
       "          '*': {\n",
       "            datalab: 'nbextensions/gcpdatalab'\n",
       "          }\n",
       "        },\n",
       "        shim: {\n",
       "          plotly: {\n",
       "            deps: ['d3', 'jquery'],\n",
       "            exports: 'plotly'\n",
       "          }\n",
       "        }\n",
       "      });\n",
       "\n",
       "      require(['datalab/charting', 'datalab/element!4_152316331962', 'base/js/events',\n",
       "          'datalab/style!/nbextensions/gcpdatalab/charting.css'],\n",
       "        function(charts, dom, events) {\n",
       "          charts.render('gcharts', dom, events, 'table', [], {\"cols\": [{\"id\": \"f0_\", \"label\": \"f0_\", \"type\": \"number\"}], \"rows\": [{\"c\": [{\"v\": 1}]}]},\n",
       "            {\n",
       "              pageSize: 25,\n",
       "              cssClassNames:  {\n",
       "                tableRow: 'gchart-table-row',\n",
       "                headerRow: 'gchart-table-headerrow',\n",
       "                oddTableRow: 'gchart-table-oddrow',\n",
       "                selectedTableRow: 'gchart-table-selectedrow',\n",
       "                hoverTableRow: 'gchart-table-hoverrow',\n",
       "                tableCell: 'gchart-table-cell',\n",
       "                headerCell: 'gchart-table-headercell',\n",
       "                rowNumberCell: 'gchart-table-rownumcell'\n",
       "              }\n",
       "            },\n",
       "            {source_index: 3, fields: 'f0_'},\n",
       "            0,\n",
       "            1);\n",
       "        }\n",
       "      );\n",
       "    </script>\n",
       "  "
      ],
      "text/plain": [
       "QueryResultsTable job_SG9o2DH-wpYYIdMxbIv2ghfrId7r"
      ]
     },
     "execution_count": 5,
     "metadata": {},
     "output_type": "execute_result"
    }
   ],
   "source": [
    "%%bq query\n",
    "SELECT count(*)\n",
    "FROM `starry-sunup-200204.crypto.test`\n",
    "WHERE price_usd > 6000"
   ]
  },
  {
   "cell_type": "markdown",
   "metadata": {
    "deletable": true,
    "editable": true
   },
   "source": [
    "And it is the Bitcoin"
   ]
  },
  {
   "cell_type": "code",
   "execution_count": 6,
   "metadata": {
    "collapsed": false,
    "deletable": true,
    "editable": true
   },
   "outputs": [
    {
     "data": {
      "text/html": [
       "\n",
       "    <div class=\"bqtv\" id=\"5_152316334294\"><table><tr><th>_id_</th><th>name</th><th>symbol</th><th>rank</th><th>price_usd</th><th>price_btc</th><th>_24h_volume_usd</th><th>market_cap_usd</th><th>available_supply</th><th>total_supply</th><th>max_supply</th><th>percent_change_1h</th><th>percent_change_24h</th><th>percent_change_7d</th><th>last_updated</th></tr><tr><td>bitcoin</td><td>Bitcoin</td><td>BTC</td><td>1</td><td>6821.87</td><td>1.0</td><td>5065050000.0</td><td>115689535129.0</td><td>16958625.0</td><td>16958625.0</td><td>21000000.0</td><td>0.39</td><td>-7.41</td><td>-12.12</td><td>1522904667</td></tr></table></div>\n",
       "    <br />(rows: 1, time: 1.3s,    12KB processed, job: job_kn0hy6GNxseazl8R8LNGe5v4lsB3)<br />\n",
       "    <script src=\"/static/components/requirejs/require.js\"></script>\n",
       "    <script>\n",
       "      require.config({\n",
       "        paths: {\n",
       "          base: '/static/base',\n",
       "          d3: '//cdnjs.cloudflare.com/ajax/libs/d3/3.4.13/d3',\n",
       "          plotly: 'https://cdn.plot.ly/plotly-1.5.1.min.js?noext',\n",
       "          jquery: '//ajax.googleapis.com/ajax/libs/jquery/2.0.0/jquery.min'\n",
       "        },\n",
       "        map: {\n",
       "          '*': {\n",
       "            datalab: 'nbextensions/gcpdatalab'\n",
       "          }\n",
       "        },\n",
       "        shim: {\n",
       "          plotly: {\n",
       "            deps: ['d3', 'jquery'],\n",
       "            exports: 'plotly'\n",
       "          }\n",
       "        }\n",
       "      });\n",
       "\n",
       "      require(['datalab/charting', 'datalab/element!5_152316334294', 'base/js/events',\n",
       "          'datalab/style!/nbextensions/gcpdatalab/charting.css'],\n",
       "        function(charts, dom, events) {\n",
       "          charts.render('gcharts', dom, events, 'table', [], {\"cols\": [{\"id\": \"_id_\", \"label\": \"_id_\", \"type\": \"string\"}, {\"id\": \"name\", \"label\": \"name\", \"type\": \"string\"}, {\"id\": \"symbol\", \"label\": \"symbol\", \"type\": \"string\"}, {\"id\": \"rank\", \"label\": \"rank\", \"type\": \"number\"}, {\"id\": \"price_usd\", \"label\": \"price_usd\", \"type\": \"number\"}, {\"id\": \"price_btc\", \"label\": \"price_btc\", \"type\": \"number\"}, {\"id\": \"_24h_volume_usd\", \"label\": \"_24h_volume_usd\", \"type\": \"number\"}, {\"id\": \"market_cap_usd\", \"label\": \"market_cap_usd\", \"type\": \"number\"}, {\"id\": \"available_supply\", \"label\": \"available_supply\", \"type\": \"number\"}, {\"id\": \"total_supply\", \"label\": \"total_supply\", \"type\": \"number\"}, {\"id\": \"max_supply\", \"label\": \"max_supply\", \"type\": \"string\"}, {\"id\": \"percent_change_1h\", \"label\": \"percent_change_1h\", \"type\": \"number\"}, {\"id\": \"percent_change_24h\", \"label\": \"percent_change_24h\", \"type\": \"number\"}, {\"id\": \"percent_change_7d\", \"label\": \"percent_change_7d\", \"type\": \"number\"}, {\"id\": \"last_updated\", \"label\": \"last_updated\", \"type\": \"number\"}], \"rows\": [{\"c\": [{\"v\": \"bitcoin\"}, {\"v\": \"Bitcoin\"}, {\"v\": \"BTC\"}, {\"v\": 1}, {\"v\": 6821.87}, {\"v\": 1.0}, {\"v\": 5065050000.0}, {\"v\": 115689535129.0}, {\"v\": 16958625.0}, {\"v\": 16958625.0}, {\"v\": \"21000000.0\"}, {\"v\": 0.39}, {\"v\": -7.41}, {\"v\": -12.12}, {\"v\": 1522904667}]}]},\n",
       "            {\n",
       "              pageSize: 25,\n",
       "              cssClassNames:  {\n",
       "                tableRow: 'gchart-table-row',\n",
       "                headerRow: 'gchart-table-headerrow',\n",
       "                oddTableRow: 'gchart-table-oddrow',\n",
       "                selectedTableRow: 'gchart-table-selectedrow',\n",
       "                hoverTableRow: 'gchart-table-hoverrow',\n",
       "                tableCell: 'gchart-table-cell',\n",
       "                headerCell: 'gchart-table-headercell',\n",
       "                rowNumberCell: 'gchart-table-rownumcell'\n",
       "              }\n",
       "            },\n",
       "            {source_index: 4, fields: '_id_,name,symbol,rank,price_usd,price_btc,_24h_volume_usd,market_cap_usd,available_supply,total_supply,max_supply,percent_change_1h,percent_change_24h,percent_change_7d,last_updated'},\n",
       "            0,\n",
       "            1);\n",
       "        }\n",
       "      );\n",
       "    </script>\n",
       "  "
      ],
      "text/plain": [
       "QueryResultsTable job_kn0hy6GNxseazl8R8LNGe5v4lsB3"
      ]
     },
     "execution_count": 6,
     "metadata": {},
     "output_type": "execute_result"
    }
   ],
   "source": [
    "%%bq query\n",
    "SELECT *\n",
    "FROM `starry-sunup-200204.crypto.test`\n",
    "WHERE price_usd > 6000"
   ]
  },
  {
   "cell_type": "markdown",
   "metadata": {
    "deletable": true,
    "editable": true
   },
   "source": [
    "### What is the total market cap of the top 100 cryptocurrencies (in USD)?"
   ]
  },
  {
   "cell_type": "code",
   "execution_count": 7,
   "metadata": {
    "collapsed": false,
    "deletable": true,
    "editable": true
   },
   "outputs": [
    {
     "data": {
      "text/html": [
       "\n",
       "    <div class=\"bqtv\" id=\"6_152316340178\"><table><tr><th>f0_</th></tr><tr><td>245889965934.0</td></tr></table></div>\n",
       "    <br />(rows: 1, time: 1.0s,   800B processed, job: job_Kai_xwgos9Y3nictXROdniSYYDn0)<br />\n",
       "    <script src=\"/static/components/requirejs/require.js\"></script>\n",
       "    <script>\n",
       "      require.config({\n",
       "        paths: {\n",
       "          base: '/static/base',\n",
       "          d3: '//cdnjs.cloudflare.com/ajax/libs/d3/3.4.13/d3',\n",
       "          plotly: 'https://cdn.plot.ly/plotly-1.5.1.min.js?noext',\n",
       "          jquery: '//ajax.googleapis.com/ajax/libs/jquery/2.0.0/jquery.min'\n",
       "        },\n",
       "        map: {\n",
       "          '*': {\n",
       "            datalab: 'nbextensions/gcpdatalab'\n",
       "          }\n",
       "        },\n",
       "        shim: {\n",
       "          plotly: {\n",
       "            deps: ['d3', 'jquery'],\n",
       "            exports: 'plotly'\n",
       "          }\n",
       "        }\n",
       "      });\n",
       "\n",
       "      require(['datalab/charting', 'datalab/element!6_152316340178', 'base/js/events',\n",
       "          'datalab/style!/nbextensions/gcpdatalab/charting.css'],\n",
       "        function(charts, dom, events) {\n",
       "          charts.render('gcharts', dom, events, 'table', [], {\"cols\": [{\"id\": \"f0_\", \"label\": \"f0_\", \"type\": \"number\"}], \"rows\": [{\"c\": [{\"v\": 245889965934.0}]}]},\n",
       "            {\n",
       "              pageSize: 25,\n",
       "              cssClassNames:  {\n",
       "                tableRow: 'gchart-table-row',\n",
       "                headerRow: 'gchart-table-headerrow',\n",
       "                oddTableRow: 'gchart-table-oddrow',\n",
       "                selectedTableRow: 'gchart-table-selectedrow',\n",
       "                hoverTableRow: 'gchart-table-hoverrow',\n",
       "                tableCell: 'gchart-table-cell',\n",
       "                headerCell: 'gchart-table-headercell',\n",
       "                rowNumberCell: 'gchart-table-rownumcell'\n",
       "              }\n",
       "            },\n",
       "            {source_index: 5, fields: 'f0_'},\n",
       "            0,\n",
       "            1);\n",
       "        }\n",
       "      );\n",
       "    </script>\n",
       "  "
      ],
      "text/plain": [
       "QueryResultsTable job_Kai_xwgos9Y3nictXROdniSYYDn0"
      ]
     },
     "execution_count": 7,
     "metadata": {},
     "output_type": "execute_result"
    }
   ],
   "source": [
    "%%bq query\n",
    "SELECT sum(market_cap_usd)\n",
    "FROM `starry-sunup-200204.crypto.test`"
   ]
  },
  {
   "cell_type": "markdown",
   "metadata": {
    "deletable": true,
    "editable": true
   },
   "source": [
    "### Which coins have an available supply less than $5M?"
   ]
  },
  {
   "cell_type": "code",
   "execution_count": 8,
   "metadata": {
    "collapsed": false,
    "deletable": true,
    "editable": true
   },
   "outputs": [
    {
     "data": {
      "text/html": [
       "\n",
       "    <div class=\"bqtv\" id=\"7_152316349991\"><table><tr><th>_id_</th><th>name</th><th>symbol</th><th>rank</th><th>price_usd</th><th>price_btc</th><th>_24h_volume_usd</th><th>market_cap_usd</th><th>available_supply</th><th>total_supply</th><th>max_supply</th><th>percent_change_1h</th><th>percent_change_24h</th><th>percent_change_7d</th><th>last_updated</th></tr><tr><td>digixdao</td><td>DigixDAO</td><td>DGD</td><td>31</td><td>203.037</td><td>0.029952</td><td>13305800.0</td><td>406074000.0</td><td>2000000.0</td><td>2000000.0</td><td>&nbsp;</td><td>1.22</td><td>-11.67</td><td>-28.62</td><td>1522904646</td></tr><tr><td>zcash</td><td>Zcash</td><td>ZEC</td><td>26</td><td>183.382</td><td>0.0270525</td><td>36532600.0</td><td>666143138.0</td><td>3632544.0</td><td>3632544.0</td><td>&nbsp;</td><td>0.54</td><td>-7.87</td><td>-10.13</td><td>1522904647</td></tr><tr><td>byteball</td><td>Byteball Bytes</td><td>GBYTE</td><td>86</td><td>168.892</td><td>0.024915</td><td>139508.0</td><td>108972843.0</td><td>645222.0</td><td>1000000.0</td><td>&nbsp;</td><td>1.56</td><td>-9.66</td><td>-10.2</td><td>1522904648</td></tr><tr><td>maker</td><td>Maker</td><td>MKR</td><td>42</td><td>492.087</td><td>0.0725927</td><td>46436.9</td><td>304221849.0</td><td>618228.0</td><td>1000000.0</td><td>&nbsp;</td><td>-0.34</td><td>-5.64</td><td>-14.02</td><td>1522904649</td></tr><tr><td>veritaseum</td><td>Veritaseum</td><td>VERI</td><td>56</td><td>104.044</td><td>0.0153485</td><td>581217.0</td><td>211900738.0</td><td>2036645.0</td><td>100000000.0</td><td>&nbsp;</td><td>1.72</td><td>-14.8</td><td>-25.45</td><td>1522904650</td></tr><tr><td>zcoin</td><td>ZCoin</td><td>XZC</td><td>77</td><td>27.7614</td><td>0.00409537</td><td>12386200.0</td><td>123848435.0</td><td>4461174.0</td><td>4461174.0</td><td>21400000.0</td><td>-0.2</td><td>-9.72</td><td>-13.7</td><td>1522904648</td></tr></table></div>\n",
       "    <br />(rows: 6, time: 1.3s,    12KB processed, job: job_Ze32iTDUw9Bbrd-AbH29Q-VBc6EZ)<br />\n",
       "    <script src=\"/static/components/requirejs/require.js\"></script>\n",
       "    <script>\n",
       "      require.config({\n",
       "        paths: {\n",
       "          base: '/static/base',\n",
       "          d3: '//cdnjs.cloudflare.com/ajax/libs/d3/3.4.13/d3',\n",
       "          plotly: 'https://cdn.plot.ly/plotly-1.5.1.min.js?noext',\n",
       "          jquery: '//ajax.googleapis.com/ajax/libs/jquery/2.0.0/jquery.min'\n",
       "        },\n",
       "        map: {\n",
       "          '*': {\n",
       "            datalab: 'nbextensions/gcpdatalab'\n",
       "          }\n",
       "        },\n",
       "        shim: {\n",
       "          plotly: {\n",
       "            deps: ['d3', 'jquery'],\n",
       "            exports: 'plotly'\n",
       "          }\n",
       "        }\n",
       "      });\n",
       "\n",
       "      require(['datalab/charting', 'datalab/element!7_152316349991', 'base/js/events',\n",
       "          'datalab/style!/nbextensions/gcpdatalab/charting.css'],\n",
       "        function(charts, dom, events) {\n",
       "          charts.render('gcharts', dom, events, 'table', [], {\"cols\": [{\"id\": \"_id_\", \"label\": \"_id_\", \"type\": \"string\"}, {\"id\": \"name\", \"label\": \"name\", \"type\": \"string\"}, {\"id\": \"symbol\", \"label\": \"symbol\", \"type\": \"string\"}, {\"id\": \"rank\", \"label\": \"rank\", \"type\": \"number\"}, {\"id\": \"price_usd\", \"label\": \"price_usd\", \"type\": \"number\"}, {\"id\": \"price_btc\", \"label\": \"price_btc\", \"type\": \"number\"}, {\"id\": \"_24h_volume_usd\", \"label\": \"_24h_volume_usd\", \"type\": \"number\"}, {\"id\": \"market_cap_usd\", \"label\": \"market_cap_usd\", \"type\": \"number\"}, {\"id\": \"available_supply\", \"label\": \"available_supply\", \"type\": \"number\"}, {\"id\": \"total_supply\", \"label\": \"total_supply\", \"type\": \"number\"}, {\"id\": \"max_supply\", \"label\": \"max_supply\", \"type\": \"string\"}, {\"id\": \"percent_change_1h\", \"label\": \"percent_change_1h\", \"type\": \"number\"}, {\"id\": \"percent_change_24h\", \"label\": \"percent_change_24h\", \"type\": \"number\"}, {\"id\": \"percent_change_7d\", \"label\": \"percent_change_7d\", \"type\": \"number\"}, {\"id\": \"last_updated\", \"label\": \"last_updated\", \"type\": \"number\"}], \"rows\": [{\"c\": [{\"v\": \"digixdao\"}, {\"v\": \"DigixDAO\"}, {\"v\": \"DGD\"}, {\"v\": 31}, {\"v\": 203.037}, {\"v\": 0.029952}, {\"v\": 13305800.0}, {\"v\": 406074000.0}, {\"v\": 2000000.0}, {\"v\": 2000000.0}, {\"v\": null}, {\"v\": 1.22}, {\"v\": -11.67}, {\"v\": -28.62}, {\"v\": 1522904646}]}, {\"c\": [{\"v\": \"zcash\"}, {\"v\": \"Zcash\"}, {\"v\": \"ZEC\"}, {\"v\": 26}, {\"v\": 183.382}, {\"v\": 0.0270525}, {\"v\": 36532600.0}, {\"v\": 666143138.0}, {\"v\": 3632544.0}, {\"v\": 3632544.0}, {\"v\": null}, {\"v\": 0.54}, {\"v\": -7.87}, {\"v\": -10.13}, {\"v\": 1522904647}]}, {\"c\": [{\"v\": \"byteball\"}, {\"v\": \"Byteball Bytes\"}, {\"v\": \"GBYTE\"}, {\"v\": 86}, {\"v\": 168.892}, {\"v\": 0.024915}, {\"v\": 139508.0}, {\"v\": 108972843.0}, {\"v\": 645222.0}, {\"v\": 1000000.0}, {\"v\": null}, {\"v\": 1.56}, {\"v\": -9.66}, {\"v\": -10.2}, {\"v\": 1522904648}]}, {\"c\": [{\"v\": \"maker\"}, {\"v\": \"Maker\"}, {\"v\": \"MKR\"}, {\"v\": 42}, {\"v\": 492.087}, {\"v\": 0.0725927}, {\"v\": 46436.9}, {\"v\": 304221849.0}, {\"v\": 618228.0}, {\"v\": 1000000.0}, {\"v\": null}, {\"v\": -0.34}, {\"v\": -5.64}, {\"v\": -14.02}, {\"v\": 1522904649}]}, {\"c\": [{\"v\": \"veritaseum\"}, {\"v\": \"Veritaseum\"}, {\"v\": \"VERI\"}, {\"v\": 56}, {\"v\": 104.044}, {\"v\": 0.0153485}, {\"v\": 581217.0}, {\"v\": 211900738.0}, {\"v\": 2036645.0}, {\"v\": 100000000.0}, {\"v\": null}, {\"v\": 1.72}, {\"v\": -14.8}, {\"v\": -25.45}, {\"v\": 1522904650}]}, {\"c\": [{\"v\": \"zcoin\"}, {\"v\": \"ZCoin\"}, {\"v\": \"XZC\"}, {\"v\": 77}, {\"v\": 27.7614}, {\"v\": 0.00409537}, {\"v\": 12386200.0}, {\"v\": 123848435.0}, {\"v\": 4461174.0}, {\"v\": 4461174.0}, {\"v\": \"21400000.0\"}, {\"v\": -0.2}, {\"v\": -9.72}, {\"v\": -13.7}, {\"v\": 1522904648}]}]},\n",
       "            {\n",
       "              pageSize: 25,\n",
       "              cssClassNames:  {\n",
       "                tableRow: 'gchart-table-row',\n",
       "                headerRow: 'gchart-table-headerrow',\n",
       "                oddTableRow: 'gchart-table-oddrow',\n",
       "                selectedTableRow: 'gchart-table-selectedrow',\n",
       "                hoverTableRow: 'gchart-table-hoverrow',\n",
       "                tableCell: 'gchart-table-cell',\n",
       "                headerCell: 'gchart-table-headercell',\n",
       "                rowNumberCell: 'gchart-table-rownumcell'\n",
       "              }\n",
       "            },\n",
       "            {source_index: 6, fields: '_id_,name,symbol,rank,price_usd,price_btc,_24h_volume_usd,market_cap_usd,available_supply,total_supply,max_supply,percent_change_1h,percent_change_24h,percent_change_7d,last_updated'},\n",
       "            0,\n",
       "            6);\n",
       "        }\n",
       "      );\n",
       "    </script>\n",
       "  "
      ],
      "text/plain": [
       "QueryResultsTable job_Ze32iTDUw9Bbrd-AbH29Q-VBc6EZ"
      ]
     },
     "execution_count": 8,
     "metadata": {},
     "output_type": "execute_result"
    }
   ],
   "source": [
    "%%bq query\n",
    "SELECT *\n",
    "FROM `starry-sunup-200204.crypto.test`\n",
    "WHERE available_supply < 5000000"
   ]
  },
  {
   "cell_type": "markdown",
   "metadata": {
    "deletable": true,
    "editable": true
   },
   "source": [
    "### Which 5 coins have seen the greatest percentage growth in the last week?"
   ]
  },
  {
   "cell_type": "code",
   "execution_count": 10,
   "metadata": {
    "collapsed": false,
    "deletable": true,
    "editable": true
   },
   "outputs": [
    {
     "data": {
      "text/html": [
       "\n",
       "    <div class=\"bqtv\" id=\"9_152316361233\"><table><tr><th>_id_</th><th>name</th><th>symbol</th><th>rank</th><th>price_usd</th><th>price_btc</th><th>_24h_volume_usd</th><th>market_cap_usd</th><th>available_supply</th><th>total_supply</th><th>max_supply</th><th>percent_change_1h</th><th>percent_change_24h</th><th>percent_change_7d</th><th>last_updated</th></tr><tr><td>verge</td><td>Verge</td><td>XVG</td><td>22</td><td>0.0561223</td><td>8.28e-06</td><td>145545000.0</td><td>831541915.0</td><td>14816604365.0</td><td>14816604365.0</td><td>16555000000.0</td><td>-0.11</td><td>-15.61</td><td>40.28</td><td>1522904643</td></tr><tr><td>vertcoin</td><td>Vertcoin</td><td>VTC</td><td>90</td><td>2.32519</td><td>0.00034301</td><td>20182800.0</td><td>101477686.0</td><td>43642750.0</td><td>43642750.0</td><td>84000000.0</td><td>-3.14</td><td>14.96</td><td>19.82</td><td>1522904641</td></tr><tr><td>ontology</td><td>Ontology</td><td>ONT</td><td>27</td><td>2.44807</td><td>0.00036114</td><td>41526400.0</td><td>590563719.0</td><td>241236451.0</td><td>1000000000.0</td><td>&nbsp;</td><td>2.4</td><td>3.25</td><td>12.09</td><td>1522904661</td></tr><tr><td>ardor</td><td>Ardor</td><td>ARDR</td><td>46</td><td>0.279858</td><td>4.128e-05</td><td>26723400.0</td><td>279578001.0</td><td>998999495.0</td><td>998999495.0</td><td>998999495.0</td><td>-0.55</td><td>-16.29</td><td>11.85</td><td>1522904647</td></tr><tr><td>binance-coin</td><td>Binance Coin</td><td>BNB</td><td>16</td><td>12.4669</td><td>0.00183912</td><td>104959000.0</td><td>1449421792.0</td><td>116261604.0</td><td>197192382.0</td><td>&nbsp;</td><td>0.35</td><td>-2.62</td><td>9.65</td><td>1522904652</td></tr></table></div>\n",
       "    <br />(rows: 5, time: 1.2s,    12KB processed, job: job_ZmsZkFEk3dZIDRFFJlcqitdjI0NO)<br />\n",
       "    <script src=\"/static/components/requirejs/require.js\"></script>\n",
       "    <script>\n",
       "      require.config({\n",
       "        paths: {\n",
       "          base: '/static/base',\n",
       "          d3: '//cdnjs.cloudflare.com/ajax/libs/d3/3.4.13/d3',\n",
       "          plotly: 'https://cdn.plot.ly/plotly-1.5.1.min.js?noext',\n",
       "          jquery: '//ajax.googleapis.com/ajax/libs/jquery/2.0.0/jquery.min'\n",
       "        },\n",
       "        map: {\n",
       "          '*': {\n",
       "            datalab: 'nbextensions/gcpdatalab'\n",
       "          }\n",
       "        },\n",
       "        shim: {\n",
       "          plotly: {\n",
       "            deps: ['d3', 'jquery'],\n",
       "            exports: 'plotly'\n",
       "          }\n",
       "        }\n",
       "      });\n",
       "\n",
       "      require(['datalab/charting', 'datalab/element!9_152316361233', 'base/js/events',\n",
       "          'datalab/style!/nbextensions/gcpdatalab/charting.css'],\n",
       "        function(charts, dom, events) {\n",
       "          charts.render('gcharts', dom, events, 'table', [], {\"cols\": [{\"id\": \"_id_\", \"label\": \"_id_\", \"type\": \"string\"}, {\"id\": \"name\", \"label\": \"name\", \"type\": \"string\"}, {\"id\": \"symbol\", \"label\": \"symbol\", \"type\": \"string\"}, {\"id\": \"rank\", \"label\": \"rank\", \"type\": \"number\"}, {\"id\": \"price_usd\", \"label\": \"price_usd\", \"type\": \"number\"}, {\"id\": \"price_btc\", \"label\": \"price_btc\", \"type\": \"number\"}, {\"id\": \"_24h_volume_usd\", \"label\": \"_24h_volume_usd\", \"type\": \"number\"}, {\"id\": \"market_cap_usd\", \"label\": \"market_cap_usd\", \"type\": \"number\"}, {\"id\": \"available_supply\", \"label\": \"available_supply\", \"type\": \"number\"}, {\"id\": \"total_supply\", \"label\": \"total_supply\", \"type\": \"number\"}, {\"id\": \"max_supply\", \"label\": \"max_supply\", \"type\": \"string\"}, {\"id\": \"percent_change_1h\", \"label\": \"percent_change_1h\", \"type\": \"number\"}, {\"id\": \"percent_change_24h\", \"label\": \"percent_change_24h\", \"type\": \"number\"}, {\"id\": \"percent_change_7d\", \"label\": \"percent_change_7d\", \"type\": \"number\"}, {\"id\": \"last_updated\", \"label\": \"last_updated\", \"type\": \"number\"}], \"rows\": [{\"c\": [{\"v\": \"verge\"}, {\"v\": \"Verge\"}, {\"v\": \"XVG\"}, {\"v\": 22}, {\"v\": 0.0561223}, {\"v\": 8.28e-06}, {\"v\": 145545000.0}, {\"v\": 831541915.0}, {\"v\": 14816604365.0}, {\"v\": 14816604365.0}, {\"v\": \"16555000000.0\"}, {\"v\": -0.11}, {\"v\": -15.61}, {\"v\": 40.28}, {\"v\": 1522904643}]}, {\"c\": [{\"v\": \"vertcoin\"}, {\"v\": \"Vertcoin\"}, {\"v\": \"VTC\"}, {\"v\": 90}, {\"v\": 2.32519}, {\"v\": 0.00034301}, {\"v\": 20182800.0}, {\"v\": 101477686.0}, {\"v\": 43642750.0}, {\"v\": 43642750.0}, {\"v\": \"84000000.0\"}, {\"v\": -3.14}, {\"v\": 14.96}, {\"v\": 19.82}, {\"v\": 1522904641}]}, {\"c\": [{\"v\": \"ontology\"}, {\"v\": \"Ontology\"}, {\"v\": \"ONT\"}, {\"v\": 27}, {\"v\": 2.44807}, {\"v\": 0.00036114}, {\"v\": 41526400.0}, {\"v\": 590563719.0}, {\"v\": 241236451.0}, {\"v\": 1000000000.0}, {\"v\": null}, {\"v\": 2.4}, {\"v\": 3.25}, {\"v\": 12.09}, {\"v\": 1522904661}]}, {\"c\": [{\"v\": \"ardor\"}, {\"v\": \"Ardor\"}, {\"v\": \"ARDR\"}, {\"v\": 46}, {\"v\": 0.279858}, {\"v\": 4.128e-05}, {\"v\": 26723400.0}, {\"v\": 279578001.0}, {\"v\": 998999495.0}, {\"v\": 998999495.0}, {\"v\": \"998999495.0\"}, {\"v\": -0.55}, {\"v\": -16.29}, {\"v\": 11.85}, {\"v\": 1522904647}]}, {\"c\": [{\"v\": \"binance-coin\"}, {\"v\": \"Binance Coin\"}, {\"v\": \"BNB\"}, {\"v\": 16}, {\"v\": 12.4669}, {\"v\": 0.00183912}, {\"v\": 104959000.0}, {\"v\": 1449421792.0}, {\"v\": 116261604.0}, {\"v\": 197192382.0}, {\"v\": null}, {\"v\": 0.35}, {\"v\": -2.62}, {\"v\": 9.65}, {\"v\": 1522904652}]}]},\n",
       "            {\n",
       "              pageSize: 25,\n",
       "              cssClassNames:  {\n",
       "                tableRow: 'gchart-table-row',\n",
       "                headerRow: 'gchart-table-headerrow',\n",
       "                oddTableRow: 'gchart-table-oddrow',\n",
       "                selectedTableRow: 'gchart-table-selectedrow',\n",
       "                hoverTableRow: 'gchart-table-hoverrow',\n",
       "                tableCell: 'gchart-table-cell',\n",
       "                headerCell: 'gchart-table-headercell',\n",
       "                rowNumberCell: 'gchart-table-rownumcell'\n",
       "              }\n",
       "            },\n",
       "            {source_index: 8, fields: '_id_,name,symbol,rank,price_usd,price_btc,_24h_volume_usd,market_cap_usd,available_supply,total_supply,max_supply,percent_change_1h,percent_change_24h,percent_change_7d,last_updated'},\n",
       "            0,\n",
       "            5);\n",
       "        }\n",
       "      );\n",
       "    </script>\n",
       "  "
      ],
      "text/plain": [
       "QueryResultsTable job_ZmsZkFEk3dZIDRFFJlcqitdjI0NO"
      ]
     },
     "execution_count": 10,
     "metadata": {},
     "output_type": "execute_result"
    }
   ],
   "source": [
    "%%bq query\n",
    "SELECT *\n",
    "FROM `starry-sunup-200204.crypto.test`\n",
    "ORDER BY percent_change_7d desc\n",
    "LIMIT 5"
   ]
  },
  {
   "cell_type": "markdown",
   "metadata": {
    "deletable": true,
    "editable": true
   },
   "source": [
    "### How many ticker symbols contain the letter \"X\" ?"
   ]
  },
  {
   "cell_type": "code",
   "execution_count": 21,
   "metadata": {
    "collapsed": false
   },
   "outputs": [
    {
     "data": {
      "text/html": [
       "\n",
       "    <div class=\"bqtv\" id=\"4_152317336424\"><table><tr><th>_id_</th><th>name</th><th>symbol</th><th>rank</th><th>price_usd</th><th>price_btc</th><th>_24h_volume_usd</th><th>market_cap_usd</th><th>available_supply</th><th>total_supply</th><th>max_supply</th><th>percent_change_1h</th><th>percent_change_24h</th><th>percent_change_7d</th><th>last_updated</th></tr><tr><td>stellar</td><td>Stellar</td><td>XLM</td><td>8</td><td>0.203224</td><td>2.998e-05</td><td>53641400.0</td><td>3769993550.0</td><td>18550926812.0</td><td>103827633055.0</td><td>&nbsp;</td><td>0.39</td><td>-12.0</td><td>-3.46</td><td>1522904643</td></tr><tr><td>monero</td><td>Monero</td><td>XMR</td><td>11</td><td>169.583</td><td>0.0250169</td><td>39622500.0</td><td>2696360967.0</td><td>15899949.0</td><td>15899949.0</td><td>&nbsp;</td><td>0.26</td><td>-8.97</td><td>-12.06</td><td>1522904644</td></tr><tr><td>nem</td><td>NEM</td><td>XEM</td><td>15</td><td>0.228305</td><td>3.368e-05</td><td>46417100.0</td><td>2054745000.0</td><td>8999999999.0</td><td>8999999999.0</td><td>&nbsp;</td><td>0.57</td><td>-8.59</td><td>-7.06</td><td>1522904644</td></tr><tr><td>pivx</td><td>PIVX</td><td>PIVX</td><td>53</td><td>3.93694</td><td>0.00058078</td><td>6798110.0</td><td>220117420.0</td><td>55910789.0</td><td>55910789.0</td><td>&nbsp;</td><td>1.24</td><td>-4.29</td><td>-10.37</td><td>1522904646</td></tr><tr><td>0x</td><td>0x</td><td>ZRX</td><td>48</td><td>0.518692</td><td>7.652e-05</td><td>4947460.0</td><td>270711252.0</td><td>521911369.0</td><td>1000000000.0</td><td>&nbsp;</td><td>0.35</td><td>-10.0</td><td>-15.33</td><td>1522904652</td></tr><tr><td>tron</td><td>TRON</td><td>TRX</td><td>14</td><td>0.0318578</td><td>4.7e-06</td><td>189430000.0</td><td>2094592766.0</td><td>65748192475.0</td><td>100000000000.0</td><td>&nbsp;</td><td>5.02</td><td>-5.33</td><td>-32.37</td><td>1522904653</td></tr><tr><td>icon</td><td>ICON</td><td>ICX</td><td>23</td><td>2.03111</td><td>0.00029963</td><td>34901500.0</td><td>786125909.0</td><td>387042508.0</td><td>400230000.0</td><td>&nbsp;</td><td>0.49</td><td>-8.38</td><td>-25.28</td><td>1522904655</td></tr><tr><td>zcoin</td><td>ZCoin</td><td>XZC</td><td>77</td><td>27.7614</td><td>0.00409537</td><td>12386200.0</td><td>123848435.0</td><td>4461174.0</td><td>4461174.0</td><td>21400000.0</td><td>-0.2</td><td>-9.72</td><td>-13.7</td><td>1522904648</td></tr><tr><td>gxchain</td><td>GXChain</td><td>GXS</td><td>67</td><td>2.56181</td><td>0.00037792</td><td>1059400.0</td><td>153708600.0</td><td>60000000.0</td><td>100000000.0</td><td>100000000.0</td><td>0.21</td><td>-5.92</td><td>-6.15</td><td>1522904651</td></tr><tr><td>cryptonex</td><td>Cryptonex</td><td>CNX</td><td>55</td><td>4.73638</td><td>0.00069871</td><td>1187290.0</td><td>214069915.0</td><td>45196947.0</td><td>106634573.0</td><td>210000000.0</td><td>1.14</td><td>-6.85</td><td>-7.64</td><td>1522904654</td></tr><tr><td>nxt</td><td>Nxt</td><td>NXT</td><td>81</td><td>0.115026</td><td>1.697e-05</td><td>1886940.0</td><td>114910967.0</td><td>998999942.0</td><td>998999942.0</td><td>1000000000.0</td><td>1.33</td><td>-9.39</td><td>-8.1</td><td>1522904641</td></tr><tr><td>ripple</td><td>Ripple</td><td>XRP</td><td>3</td><td>0.497798</td><td>7.344e-05</td><td>396029000.0</td><td>19461174177.0</td><td>39094520623.0</td><td>99992405149.0</td><td>100000000000</td><td>0.17</td><td>-7.73</td><td>-11.5</td><td>1522904641</td></tr><tr><td>verge</td><td>Verge</td><td>XVG</td><td>22</td><td>0.0561223</td><td>8.28e-06</td><td>145545000.0</td><td>831541915.0</td><td>14816604365.0</td><td>14816604365.0</td><td>16555000000.0</td><td>-0.11</td><td>-15.61</td><td>40.28</td><td>1522904643</td></tr></table></div>\n",
       "    <br />(rows: 13, time: 0.2s, cached, job: job_OelywfibVR7JF-7FPfAr1-ryHVzG)<br />\n",
       "    <script src=\"/static/components/requirejs/require.js\"></script>\n",
       "    <script>\n",
       "      require.config({\n",
       "        paths: {\n",
       "          base: '/static/base',\n",
       "          d3: '//cdnjs.cloudflare.com/ajax/libs/d3/3.4.13/d3',\n",
       "          plotly: 'https://cdn.plot.ly/plotly-1.5.1.min.js?noext',\n",
       "          jquery: '//ajax.googleapis.com/ajax/libs/jquery/2.0.0/jquery.min'\n",
       "        },\n",
       "        map: {\n",
       "          '*': {\n",
       "            datalab: 'nbextensions/gcpdatalab'\n",
       "          }\n",
       "        },\n",
       "        shim: {\n",
       "          plotly: {\n",
       "            deps: ['d3', 'jquery'],\n",
       "            exports: 'plotly'\n",
       "          }\n",
       "        }\n",
       "      });\n",
       "\n",
       "      require(['datalab/charting', 'datalab/element!4_152317336424', 'base/js/events',\n",
       "          'datalab/style!/nbextensions/gcpdatalab/charting.css'],\n",
       "        function(charts, dom, events) {\n",
       "          charts.render('gcharts', dom, events, 'table', [], {\"rows\": [{\"c\": [{\"v\": \"stellar\"}, {\"v\": \"Stellar\"}, {\"v\": \"XLM\"}, {\"v\": 8}, {\"v\": 0.203224}, {\"v\": 2.998e-05}, {\"v\": 53641400.0}, {\"v\": 3769993550.0}, {\"v\": 18550926812.0}, {\"v\": 103827633055.0}, {\"v\": null}, {\"v\": 0.39}, {\"v\": -12.0}, {\"v\": -3.46}, {\"v\": 1522904643}]}, {\"c\": [{\"v\": \"monero\"}, {\"v\": \"Monero\"}, {\"v\": \"XMR\"}, {\"v\": 11}, {\"v\": 169.583}, {\"v\": 0.0250169}, {\"v\": 39622500.0}, {\"v\": 2696360967.0}, {\"v\": 15899949.0}, {\"v\": 15899949.0}, {\"v\": null}, {\"v\": 0.26}, {\"v\": -8.97}, {\"v\": -12.06}, {\"v\": 1522904644}]}, {\"c\": [{\"v\": \"nem\"}, {\"v\": \"NEM\"}, {\"v\": \"XEM\"}, {\"v\": 15}, {\"v\": 0.228305}, {\"v\": 3.368e-05}, {\"v\": 46417100.0}, {\"v\": 2054745000.0}, {\"v\": 8999999999.0}, {\"v\": 8999999999.0}, {\"v\": null}, {\"v\": 0.57}, {\"v\": -8.59}, {\"v\": -7.06}, {\"v\": 1522904644}]}, {\"c\": [{\"v\": \"pivx\"}, {\"v\": \"PIVX\"}, {\"v\": \"PIVX\"}, {\"v\": 53}, {\"v\": 3.93694}, {\"v\": 0.00058078}, {\"v\": 6798110.0}, {\"v\": 220117420.0}, {\"v\": 55910789.0}, {\"v\": 55910789.0}, {\"v\": null}, {\"v\": 1.24}, {\"v\": -4.29}, {\"v\": -10.37}, {\"v\": 1522904646}]}, {\"c\": [{\"v\": \"0x\"}, {\"v\": \"0x\"}, {\"v\": \"ZRX\"}, {\"v\": 48}, {\"v\": 0.518692}, {\"v\": 7.652e-05}, {\"v\": 4947460.0}, {\"v\": 270711252.0}, {\"v\": 521911369.0}, {\"v\": 1000000000.0}, {\"v\": null}, {\"v\": 0.35}, {\"v\": -10.0}, {\"v\": -15.33}, {\"v\": 1522904652}]}, {\"c\": [{\"v\": \"tron\"}, {\"v\": \"TRON\"}, {\"v\": \"TRX\"}, {\"v\": 14}, {\"v\": 0.0318578}, {\"v\": 4.7e-06}, {\"v\": 189430000.0}, {\"v\": 2094592766.0}, {\"v\": 65748192475.0}, {\"v\": 100000000000.0}, {\"v\": null}, {\"v\": 5.02}, {\"v\": -5.33}, {\"v\": -32.37}, {\"v\": 1522904653}]}, {\"c\": [{\"v\": \"icon\"}, {\"v\": \"ICON\"}, {\"v\": \"ICX\"}, {\"v\": 23}, {\"v\": 2.03111}, {\"v\": 0.00029963}, {\"v\": 34901500.0}, {\"v\": 786125909.0}, {\"v\": 387042508.0}, {\"v\": 400230000.0}, {\"v\": null}, {\"v\": 0.49}, {\"v\": -8.38}, {\"v\": -25.28}, {\"v\": 1522904655}]}, {\"c\": [{\"v\": \"zcoin\"}, {\"v\": \"ZCoin\"}, {\"v\": \"XZC\"}, {\"v\": 77}, {\"v\": 27.7614}, {\"v\": 0.00409537}, {\"v\": 12386200.0}, {\"v\": 123848435.0}, {\"v\": 4461174.0}, {\"v\": 4461174.0}, {\"v\": \"21400000.0\"}, {\"v\": -0.2}, {\"v\": -9.72}, {\"v\": -13.7}, {\"v\": 1522904648}]}, {\"c\": [{\"v\": \"gxchain\"}, {\"v\": \"GXChain\"}, {\"v\": \"GXS\"}, {\"v\": 67}, {\"v\": 2.56181}, {\"v\": 0.00037792}, {\"v\": 1059400.0}, {\"v\": 153708600.0}, {\"v\": 60000000.0}, {\"v\": 100000000.0}, {\"v\": \"100000000.0\"}, {\"v\": 0.21}, {\"v\": -5.92}, {\"v\": -6.15}, {\"v\": 1522904651}]}, {\"c\": [{\"v\": \"cryptonex\"}, {\"v\": \"Cryptonex\"}, {\"v\": \"CNX\"}, {\"v\": 55}, {\"v\": 4.73638}, {\"v\": 0.00069871}, {\"v\": 1187290.0}, {\"v\": 214069915.0}, {\"v\": 45196947.0}, {\"v\": 106634573.0}, {\"v\": \"210000000.0\"}, {\"v\": 1.14}, {\"v\": -6.85}, {\"v\": -7.64}, {\"v\": 1522904654}]}, {\"c\": [{\"v\": \"nxt\"}, {\"v\": \"Nxt\"}, {\"v\": \"NXT\"}, {\"v\": 81}, {\"v\": 0.115026}, {\"v\": 1.697e-05}, {\"v\": 1886940.0}, {\"v\": 114910967.0}, {\"v\": 998999942.0}, {\"v\": 998999942.0}, {\"v\": \"1000000000.0\"}, {\"v\": 1.33}, {\"v\": -9.39}, {\"v\": -8.1}, {\"v\": 1522904641}]}, {\"c\": [{\"v\": \"ripple\"}, {\"v\": \"Ripple\"}, {\"v\": \"XRP\"}, {\"v\": 3}, {\"v\": 0.497798}, {\"v\": 7.344e-05}, {\"v\": 396029000.0}, {\"v\": 19461174177.0}, {\"v\": 39094520623.0}, {\"v\": 99992405149.0}, {\"v\": \"100000000000\"}, {\"v\": 0.17}, {\"v\": -7.73}, {\"v\": -11.5}, {\"v\": 1522904641}]}, {\"c\": [{\"v\": \"verge\"}, {\"v\": \"Verge\"}, {\"v\": \"XVG\"}, {\"v\": 22}, {\"v\": 0.0561223}, {\"v\": 8.28e-06}, {\"v\": 145545000.0}, {\"v\": 831541915.0}, {\"v\": 14816604365.0}, {\"v\": 14816604365.0}, {\"v\": \"16555000000.0\"}, {\"v\": -0.11}, {\"v\": -15.61}, {\"v\": 40.28}, {\"v\": 1522904643}]}], \"cols\": [{\"label\": \"_id_\", \"type\": \"string\", \"id\": \"_id_\"}, {\"label\": \"name\", \"type\": \"string\", \"id\": \"name\"}, {\"label\": \"symbol\", \"type\": \"string\", \"id\": \"symbol\"}, {\"label\": \"rank\", \"type\": \"number\", \"id\": \"rank\"}, {\"label\": \"price_usd\", \"type\": \"number\", \"id\": \"price_usd\"}, {\"label\": \"price_btc\", \"type\": \"number\", \"id\": \"price_btc\"}, {\"label\": \"_24h_volume_usd\", \"type\": \"number\", \"id\": \"_24h_volume_usd\"}, {\"label\": \"market_cap_usd\", \"type\": \"number\", \"id\": \"market_cap_usd\"}, {\"label\": \"available_supply\", \"type\": \"number\", \"id\": \"available_supply\"}, {\"label\": \"total_supply\", \"type\": \"number\", \"id\": \"total_supply\"}, {\"label\": \"max_supply\", \"type\": \"string\", \"id\": \"max_supply\"}, {\"label\": \"percent_change_1h\", \"type\": \"number\", \"id\": \"percent_change_1h\"}, {\"label\": \"percent_change_24h\", \"type\": \"number\", \"id\": \"percent_change_24h\"}, {\"label\": \"percent_change_7d\", \"type\": \"number\", \"id\": \"percent_change_7d\"}, {\"label\": \"last_updated\", \"type\": \"number\", \"id\": \"last_updated\"}]},\n",
       "            {\n",
       "              pageSize: 25,\n",
       "              cssClassNames:  {\n",
       "                tableRow: 'gchart-table-row',\n",
       "                headerRow: 'gchart-table-headerrow',\n",
       "                oddTableRow: 'gchart-table-oddrow',\n",
       "                selectedTableRow: 'gchart-table-selectedrow',\n",
       "                hoverTableRow: 'gchart-table-hoverrow',\n",
       "                tableCell: 'gchart-table-cell',\n",
       "                headerCell: 'gchart-table-headercell',\n",
       "                rowNumberCell: 'gchart-table-rownumcell'\n",
       "              }\n",
       "            },\n",
       "            {source_index: 1, fields: '_id_,name,symbol,rank,price_usd,price_btc,_24h_volume_usd,market_cap_usd,available_supply,total_supply,max_supply,percent_change_1h,percent_change_24h,percent_change_7d,last_updated'},\n",
       "            0,\n",
       "            13);\n",
       "        }\n",
       "      );\n",
       "    </script>\n",
       "  "
      ],
      "text/plain": [
       "QueryResultsTable job_OelywfibVR7JF-7FPfAr1-ryHVzG"
      ]
     },
     "execution_count": 21,
     "metadata": {},
     "output_type": "execute_result"
    }
   ],
   "source": [
    "%%bq query\n",
    "SELECT *\n",
    "FROM `starry-sunup-200204.crypto.test`\n",
    "WHERE symbol LIKE '%X%'"
   ]
  },
  {
   "cell_type": "markdown",
   "metadata": {},
   "source": [
    "### BigQuery Python API"
   ]
  },
  {
   "cell_type": "markdown",
   "metadata": {},
   "source": [
    "The dataset above can be used in Python using BigQuery API"
   ]
  },
  {
   "cell_type": "code",
   "execution_count": 6,
   "metadata": {
    "collapsed": true
   },
   "outputs": [],
   "source": [
    "import google.datalab.bigquery as bq"
   ]
  },
  {
   "cell_type": "code",
   "execution_count": 10,
   "metadata": {
    "collapsed": false
   },
   "outputs": [
    {
     "name": "stdout",
     "output_type": "stream",
     "text": [
      "[{'rank': 1, 'percent_change_7d': -12.12, 'max_supply': '21000000.0', '_id_': 'bitcoin', 'available_supply': 16958625.0, '_24h_volume_usd': 5065050000.0, 'market_cap_usd': 115689535129.0, 'price_btc': 1.0, 'price_usd': 6821.87, 'last_updated': 1522904667, 'total_supply': 16958625.0, 'symbol': 'BTC', 'percent_change_1h': 0.39, 'percent_change_24h': -7.41, 'name': 'Bitcoin'}]\n"
     ]
    }
   ],
   "source": [
    "q1 = bq.Query('SELECT * FROM `starry-sunup-200204.crypto.test` WHERE price_usd > 6000')\n",
    "output_options = bq.QueryOutput.table(use_cache=False)\n",
    "result = q1.execute(output_options=output_options).result()\n",
    "print(list(result))"
   ]
  },
  {
   "cell_type": "code",
   "execution_count": 18,
   "metadata": {
    "collapsed": false
   },
   "outputs": [
    {
     "data": {
      "text/plain": [
       "pandas.core.frame.DataFrame"
      ]
     },
     "execution_count": 18,
     "metadata": {},
     "output_type": "execute_result"
    }
   ],
   "source": [
    "#convert to Pandas dataframe\n",
    "df1 = result.to_dataframe()\n",
    "type(df1)"
   ]
  },
  {
   "cell_type": "code",
   "execution_count": 19,
   "metadata": {
    "collapsed": false
   },
   "outputs": [
    {
     "data": {
      "text/html": [
       "<div>\n",
       "<style scoped>\n",
       "    .dataframe tbody tr th:only-of-type {\n",
       "        vertical-align: middle;\n",
       "    }\n",
       "\n",
       "    .dataframe tbody tr th {\n",
       "        vertical-align: top;\n",
       "    }\n",
       "\n",
       "    .dataframe thead th {\n",
       "        text-align: right;\n",
       "    }\n",
       "</style>\n",
       "<table border=\"1\" class=\"dataframe\">\n",
       "  <thead>\n",
       "    <tr style=\"text-align: right;\">\n",
       "      <th></th>\n",
       "      <th>_id_</th>\n",
       "      <th>name</th>\n",
       "      <th>symbol</th>\n",
       "      <th>rank</th>\n",
       "      <th>price_usd</th>\n",
       "      <th>price_btc</th>\n",
       "      <th>_24h_volume_usd</th>\n",
       "      <th>market_cap_usd</th>\n",
       "      <th>available_supply</th>\n",
       "      <th>total_supply</th>\n",
       "      <th>max_supply</th>\n",
       "      <th>percent_change_1h</th>\n",
       "      <th>percent_change_24h</th>\n",
       "      <th>percent_change_7d</th>\n",
       "      <th>last_updated</th>\n",
       "    </tr>\n",
       "  </thead>\n",
       "  <tbody>\n",
       "    <tr>\n",
       "      <th>0</th>\n",
       "      <td>bitcoin</td>\n",
       "      <td>Bitcoin</td>\n",
       "      <td>BTC</td>\n",
       "      <td>1</td>\n",
       "      <td>6821.87</td>\n",
       "      <td>1.0</td>\n",
       "      <td>5.065050e+09</td>\n",
       "      <td>1.156895e+11</td>\n",
       "      <td>16958625.0</td>\n",
       "      <td>16958625.0</td>\n",
       "      <td>21000000.0</td>\n",
       "      <td>0.39</td>\n",
       "      <td>-7.41</td>\n",
       "      <td>-12.12</td>\n",
       "      <td>1522904667</td>\n",
       "    </tr>\n",
       "  </tbody>\n",
       "</table>\n",
       "</div>"
      ],
      "text/plain": [
       "      _id_     name symbol  rank  price_usd  price_btc  _24h_volume_usd  \\\n",
       "0  bitcoin  Bitcoin    BTC     1    6821.87        1.0     5.065050e+09   \n",
       "\n",
       "   market_cap_usd  available_supply  total_supply  max_supply  \\\n",
       "0    1.156895e+11        16958625.0    16958625.0  21000000.0   \n",
       "\n",
       "   percent_change_1h  percent_change_24h  percent_change_7d  last_updated  \n",
       "0               0.39               -7.41             -12.12    1522904667  "
      ]
     },
     "execution_count": 19,
     "metadata": {},
     "output_type": "execute_result"
    }
   ],
   "source": [
    "df1"
   ]
  },
  {
   "cell_type": "markdown",
   "metadata": {},
   "source": [
    "### Data Visualization"
   ]
  },
  {
   "cell_type": "code",
   "execution_count": 39,
   "metadata": {
    "collapsed": true
   },
   "outputs": [],
   "source": [
    "import matplotlib as mpl\n",
    "import matplotlib.pyplot as plt\n",
    "import numpy as np"
   ]
  },
  {
   "cell_type": "code",
   "execution_count": 24,
   "metadata": {
    "collapsed": false
   },
   "outputs": [],
   "source": [
    "q2 = bq.Query('SELECT symbol, percent_change_7d FROM `starry-sunup-200204.crypto.test` ORDER BY percent_change_7d desc LIMIT 5')\n",
    "output_options = bq.QueryOutput.table(use_cache=False)\n",
    "result = q2.execute(output_options=output_options).result()\n",
    "df2 = result.to_dataframe()"
   ]
  },
  {
   "cell_type": "code",
   "execution_count": 25,
   "metadata": {
    "collapsed": false
   },
   "outputs": [
    {
     "data": {
      "text/html": [
       "<div>\n",
       "<style scoped>\n",
       "    .dataframe tbody tr th:only-of-type {\n",
       "        vertical-align: middle;\n",
       "    }\n",
       "\n",
       "    .dataframe tbody tr th {\n",
       "        vertical-align: top;\n",
       "    }\n",
       "\n",
       "    .dataframe thead th {\n",
       "        text-align: right;\n",
       "    }\n",
       "</style>\n",
       "<table border=\"1\" class=\"dataframe\">\n",
       "  <thead>\n",
       "    <tr style=\"text-align: right;\">\n",
       "      <th></th>\n",
       "      <th>symbol</th>\n",
       "      <th>percent_change_7d</th>\n",
       "    </tr>\n",
       "  </thead>\n",
       "  <tbody>\n",
       "    <tr>\n",
       "      <th>0</th>\n",
       "      <td>XVG</td>\n",
       "      <td>40.28</td>\n",
       "    </tr>\n",
       "    <tr>\n",
       "      <th>1</th>\n",
       "      <td>VTC</td>\n",
       "      <td>19.82</td>\n",
       "    </tr>\n",
       "    <tr>\n",
       "      <th>2</th>\n",
       "      <td>ONT</td>\n",
       "      <td>12.09</td>\n",
       "    </tr>\n",
       "    <tr>\n",
       "      <th>3</th>\n",
       "      <td>ARDR</td>\n",
       "      <td>11.85</td>\n",
       "    </tr>\n",
       "    <tr>\n",
       "      <th>4</th>\n",
       "      <td>BNB</td>\n",
       "      <td>9.65</td>\n",
       "    </tr>\n",
       "  </tbody>\n",
       "</table>\n",
       "</div>"
      ],
      "text/plain": [
       "  symbol  percent_change_7d\n",
       "0    XVG              40.28\n",
       "1    VTC              19.82\n",
       "2    ONT              12.09\n",
       "3   ARDR              11.85\n",
       "4    BNB               9.65"
      ]
     },
     "execution_count": 25,
     "metadata": {},
     "output_type": "execute_result"
    }
   ],
   "source": [
    "df2"
   ]
  },
  {
   "cell_type": "code",
   "execution_count": 26,
   "metadata": {
    "collapsed": true
   },
   "outputs": [],
   "source": [
    "%matplotlib inline"
   ]
  },
  {
   "cell_type": "code",
   "execution_count": 42,
   "metadata": {
    "collapsed": false
   },
   "outputs": [],
   "source": [
    "mpl.rcParams['font.family'] = 'DejaVu Sans'"
   ]
  },
  {
   "cell_type": "code",
   "execution_count": 43,
   "metadata": {
    "collapsed": false
   },
   "outputs": [
    {
     "data": {
      "image/png": "[encoded data removed]",
      "text/plain": [
       "<matplotlib.figure.Figure at 0x7f8dd0bdd390>"
      ]
     },
     "metadata": {},
     "output_type": "display_data"
    }
   ],
   "source": [
    "df2['percent_change_7d'].plot(kind='bar')\n",
    "plt.title('Crypto Currencies Weekly Growth')\n",
    "plt.ylabel('% change')\n",
    "plt.xticks(np.arange(5), df2['symbol'])\n",
    "plt.show()"
   ]
  }
 ],
 "metadata": {
  "kernelspec": {
   "display_name": "Python 3",
   "language": "python",
   "name": "python3"
  },
  "language_info": {
   "codemirror_mode": {
    "name": "ipython",
    "version": 3
   },
   "file_extension": ".py",
   "mimetype": "text/x-python",
   "name": "python",
   "nbconvert_exporter": "python",
   "pygments_lexer": "ipython3",
   "version": "3.5.5"
  }
 },
 "nbformat": 4,
 "nbformat_minor": 2
}
